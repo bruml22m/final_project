{
 "cells": [
  {
   "cell_type": "code",
   "execution_count": 8,
   "metadata": {},
   "outputs": [],
   "source": [
    "import pandas as pd\n",
    "import numpy as np\n",
    "import re\n",
    "import os\n",
    "import nltk\n",
    "from nltk.tokenize import word_tokenize\n",
    "from nltk.stem import WordNetLemmatizer\n",
    "from sklearn.feature_extraction.text import TfidfVectorizer\n",
    "from sklearn.model_selection import train_test_split\n",
    "from sklearn.linear_model import LogisticRegression\n",
    "from sklearn.metrics import classification_report, accuracy_score"
   ]
  },
  {
   "cell_type": "code",
   "execution_count": 9,
   "metadata": {},
   "outputs": [
    {
     "name": "stderr",
     "output_type": "stream",
     "text": [
      "[nltk_data] Downloading package punkt to\n",
      "[nltk_data]     C:\\Users\\michp\\AppData\\Roaming\\nltk_data...\n",
      "[nltk_data]   Package punkt is already up-to-date!\n",
      "[nltk_data] Downloading package stopwords to\n",
      "[nltk_data]     C:\\Users\\michp\\AppData\\Roaming\\nltk_data...\n",
      "[nltk_data]   Package stopwords is already up-to-date!\n",
      "[nltk_data] Downloading package wordnet to\n",
      "[nltk_data]     C:\\Users\\michp\\AppData\\Roaming\\nltk_data...\n",
      "[nltk_data]   Package wordnet is already up-to-date!\n"
     ]
    },
    {
     "data": {
      "text/plain": [
       "True"
      ]
     },
     "execution_count": 9,
     "metadata": {},
     "output_type": "execute_result"
    }
   ],
   "source": [
    "# downloading NLTK data\n",
    "nltk.download('punkt')\n",
    "nltk.download('stopwords')\n",
    "nltk.download('wordnet')"
   ]
  },
  {
   "cell_type": "code",
   "execution_count": 10,
   "metadata": {},
   "outputs": [],
   "source": [
    "file_path = 'mental_health.csv'"
   ]
  },
  {
   "cell_type": "code",
   "execution_count": 11,
   "metadata": {},
   "outputs": [],
   "source": [
    "reddit_depression_path = \"./reddit_depression\"\n",
    "reddit_non_depression_path = \"./reddit_non_depression\"\n",
    "blog_depression_path = \"./blogs_depression\"\n",
    "blog_non_depression_path = \"./blogs_non_depression\"\n",
    "mixed_depression_path = \"./mixed_depression\"\n",
    "mixed_non_depression_path = \"./mixed_non_depression\"\n"
   ]
  },
  {
   "cell_type": "markdown",
   "metadata": {},
   "source": [
    "## read and merge text files from folders"
   ]
  },
  {
   "cell_type": "code",
   "execution_count": 12,
   "metadata": {},
   "outputs": [],
   "source": [
    "\n",
    "def read_files_from_directory(directory_path, label):\n",
    "    texts = []\n",
    "    for filename in os.listdir(directory_path):\n",
    "        if filename.endswith('.txt'):\n",
    "            file_path = os.path.join(directory_path, filename)\n",
    "            with open(file_path, 'r', encoding='latin-1') as file:\n",
    "                texts.append((file.read(), label))\n",
    "    return texts"
   ]
  },
  {
   "cell_type": "code",
   "execution_count": 14,
   "metadata": {},
   "outputs": [],
   "source": [
    "reddit_depression_texts = read_files_from_directory(reddit_depression_path, 1)\n",
    "reddit_non_depression_texts = read_files_from_directory(reddit_non_depression_path, 0)\n",
    "blog_depression_texts = read_files_from_directory(blog_depression_path, 1)\n",
    "blog_non_depression_texts = read_files_from_directory(blog_non_depression_path, 0)\n",
    "mixed_depression_texts = read_files_from_directory(mixed_depression_path, 1)\n",
    "mixed_non_depression_texts = read_files_from_directory(mixed_non_depression_path, 0)\n",
    "\n",
    "all_texts = reddit_depression_texts + reddit_non_depression_texts + blog_depression_texts + blog_non_depression_texts + mixed_depression_texts + mixed_non_depression_texts\n",
    "texts, labels = zip(*all_texts)"
   ]
  },
  {
   "cell_type": "code",
   "execution_count": 15,
   "metadata": {},
   "outputs": [],
   "source": [
    "\n",
    "csv_data = pd.read_csv(file_path)\n",
    "csv_texts = csv_data['text'] \n",
    "csv_labels = csv_data['label']  \n",
    "\n",
    "texts += tuple(csv_texts)\n",
    "labels += tuple(csv_labels)"
   ]
  },
  {
   "cell_type": "code",
   "execution_count": 16,
   "metadata": {},
   "outputs": [],
   "source": [
    "def preprocess_text(text):\n",
    "    text = text.lower()  # convert to lowercase\n",
    "    text = re.sub(r'[^a-z\\s]', '', text)  # remove special characters and numbers\n",
    "    tokens = word_tokenize(text)  # tokenize\n",
    "    lemmatizer = WordNetLemmatizer()\n",
    "    lemmatized_text = [lemmatizer.lemmatize(word) for word in tokens]  # lemmatize the words\n",
    "    return ' '.join(lemmatized_text)"
   ]
  },
  {
   "cell_type": "code",
   "execution_count": 17,
   "metadata": {},
   "outputs": [],
   "source": [
    "# preprocessing\n",
    "processed_texts = [preprocess_text(text) for text in texts]\n",
    "\n",
    "df = pd.DataFrame({\n",
    "    'processed_text': processed_texts,\n",
    "    'label': labels\n",
    "})"
   ]
  },
  {
   "cell_type": "code",
   "execution_count": 18,
   "metadata": {},
   "outputs": [],
   "source": [
    "# tf-idf feature extraction\n",
    "vectorizer = TfidfVectorizer()\n",
    "X = vectorizer.fit_transform(df['processed_text'])\n",
    "y = df['label']"
   ]
  },
  {
   "cell_type": "code",
   "execution_count": 19,
   "metadata": {},
   "outputs": [],
   "source": [
    "# splits the dataset into training and testing sets\n",
    "X_train, X_test, y_train, y_test = train_test_split(X, labels, test_size=0.3, random_state=42)\n"
   ]
  },
  {
   "cell_type": "code",
   "execution_count": 20,
   "metadata": {},
   "outputs": [],
   "source": [
    "model = LogisticRegression()\n",
    "model.fit(X_train, y_train)\n",
    "y_pred = model.predict(X_test)"
   ]
  },
  {
   "cell_type": "code",
   "execution_count": 21,
   "metadata": {},
   "outputs": [
    {
     "name": "stdout",
     "output_type": "stream",
     "text": [
      "model accuracy: 0.9066823667942302\n",
      "\n",
      "classification report:\n",
      "               precision    recall  f1-score   support\n",
      "\n",
      "           0       0.89      0.93      0.91      5108\n",
      "           1       0.92      0.89      0.90      5083\n",
      "\n",
      "    accuracy                           0.91     10191\n",
      "   macro avg       0.91      0.91      0.91     10191\n",
      "weighted avg       0.91      0.91      0.91     10191\n",
      "\n"
     ]
    }
   ],
   "source": [
    "# evaluates the model\n",
    "print(\"model accuracy:\", accuracy_score(y_test, y_pred))\n",
    "print(\"\\nclassification report:\\n\", classification_report(y_test, y_pred))"
   ]
  },
  {
   "cell_type": "code",
   "execution_count": 22,
   "metadata": {},
   "outputs": [
    {
     "name": "stdout",
     "output_type": "stream",
     "text": [
      "Tweet: I'm feeling really stressed about work.\n",
      "Predicted Category: 0\n",
      "\n",
      "Tweet: Today is a great day, I feel so happy!\n",
      "Predicted Category: 0\n",
      "\n",
      "Tweet: I wanna kill myself, I'm so stressed.\n",
      "Predicted Category: 1\n",
      "\n",
      "Tweet: I feel like I have nothing left to live for.\n",
      "Predicted Category: 1\n",
      "\n"
     ]
    }
   ],
   "source": [
    "# new text\n",
    "new_text = [\"I'm feeling really stressed about work.\", \"Today is a great day, I feel so happy!\", \"I wanna kill myself, I'm so stressed.\", \"I feel like I have nothing left to live for.\"]\n",
    "\n",
    "# preprocess the new tweets\n",
    "processed_new_text = [preprocess_text(tweet) for tweet in new_text]\n",
    "\n",
    "# transform the new tweets using the same TF-IDF vectorizer\n",
    "X_new = vectorizer.transform(processed_new_text)\n",
    "\n",
    "# predict using the trained model\n",
    "new_predictions = model.predict(X_new)\n",
    "\n",
    "# prints the predictions\n",
    "for tweet, pred in zip(new_text, new_predictions):\n",
    "    print(f\"Text: {tweet}\\nPredicted Category: {pred}\\n\")\n"
   ]
  },
  {
   "cell_type": "markdown",
   "metadata": {},
   "source": [
    "### takes user input when run and evaluates text based on the trained model"
   ]
  },
  {
   "cell_type": "code",
   "execution_count": 33,
   "metadata": {},
   "outputs": [
    {
     "name": "stdout",
     "output_type": "stream",
     "text": [
      "Predicted Category: No need for mental health intervention\n"
     ]
    }
   ],
   "source": [
    "# function to map numerical labels to descriptive categories\n",
    "def label_to_category(label):\n",
    "    if label == 0:\n",
    "        return 'No need for mental health intervention'\n",
    "    elif label == 1:\n",
    "        return 'Possible need for mental health intervention'\n",
    "    else:\n",
    "        return 'Unknown'\n",
    "\n",
    "# function to get a prediction for a single tweet or text\n",
    "def predict_text(model, vectorizer, text):\n",
    "    processed_text = preprocess_text(text)  # preprocess\n",
    "    transformed_text = vectorizer.transform([processed_text])  # transform\n",
    "    prediction = model.predict(transformed_text)  # predict\n",
    "    return label_to_category(prediction[0])  # convert to category\n",
    "\n",
    "# user input\n",
    "user_input = input(\"Enter a tweet or text: \")\n",
    "predicted_category = predict_text(model, vectorizer, user_input)\n",
    "print(f\"Predicted Category: {predicted_category}\")\n"
   ]
  }
 ],
 "metadata": {
  "kernelspec": {
   "display_name": "Python 3",
   "language": "python",
   "name": "python3"
  },
  "language_info": {
   "codemirror_mode": {
    "name": "ipython",
    "version": 3
   },
   "file_extension": ".py",
   "mimetype": "text/x-python",
   "name": "python",
   "nbconvert_exporter": "python",
   "pygments_lexer": "ipython3",
   "version": "3.9.13"
  }
 },
 "nbformat": 4,
 "nbformat_minor": 2
}
